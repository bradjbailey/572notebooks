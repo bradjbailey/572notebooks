{
 "cells": [
  {
   "cell_type": "markdown",
   "id": "237efe27-6d5a-4839-a250-97034c515fa8",
   "metadata": {},
   "source": [
    "# An Introduction To Pytorch\n",
    "-----------------------------"
   ]
  },
  {
   "cell_type": "markdown",
   "id": "7aede72a-871c-443a-8306-4627f27e717e",
   "metadata": {},
   "source": [
    "It is suggested that you first start with [Anaconda](https://docs.anaconda.com/anaconda/install/index.html)\n",
    "\n",
    "Install links:\n",
    "- [Windows](https://repo.anaconda.com/archive/Anaconda3-2021.11-Windows-x86_64.exe)\n",
    "- [OsX](https://repo.anaconda.com/archive/Anaconda3-2021.11-MacOSX-x86_64.pkg)\n",
    "- [Linux](https://repo.anaconda.com/archive/Anaconda3-2021.11-Linux-x86_64.sh) (Find dependencies [here](https://docs.anaconda.com/anaconda/install/linux/))"
   ]
  },
  {
   "cell_type": "markdown",
   "id": "84cf2609-ae81-477a-b791-2b22abde4f80",
   "metadata": {},
   "source": [
    "Make sure you install both [PyTorch](https://pytorch.org/get-started/locally/) and Numpy\n",
    "\n",
    "For numpy use `pip install numpy`\n",
    "\n",
    "For PyTorch use `conda install pytorch torchvision cudatoolkit=11.3 -c pytorch` make sure your cudatoolkit is correct! (See link) If you don't have a gpu replace `cudatoolkit` with `cpuonly`"
   ]
  },
  {
   "cell_type": "markdown",
   "id": "021ebbbe-beea-498a-83f5-710cbd92e5a6",
   "metadata": {},
   "source": [
    "# Pytorch is (almost) Numpy!\n",
    "-------------------"
   ]
  },
  {
   "cell_type": "markdown",
   "id": "478ce950-9bee-4bfb-9fc4-c5d670d55023",
   "metadata": {},
   "source": [
    "The beauty of pytorch is that you probably already know how to use it! If you've used numpy before you'll be very comfortable in pytorch. If you've used other languages like Matlab then you'll also find that you can be comfortable here.\n",
    "\n",
    "So let's see a few things"
   ]
  },
  {
   "cell_type": "markdown",
   "id": "94792b59",
   "metadata": {
    "cell_style": "split"
   },
   "source": [
    "### Numpy"
   ]
  },
  {
   "cell_type": "markdown",
   "id": "db1e44ef",
   "metadata": {
    "cell_style": "split"
   },
   "source": [
    "### Pytorch"
   ]
  },
  {
   "cell_type": "code",
   "execution_count": 2,
   "id": "4102bc08",
   "metadata": {
    "cell_style": "split"
   },
   "outputs": [
    {
     "name": "stdout",
     "output_type": "stream",
     "text": [
      "[[1.76405235 0.40015721]\n",
      " [0.97873798 2.2408932 ]]\n"
     ]
    }
   ],
   "source": [
    "import numpy as np\n",
    "np.random.seed(0)\n",
    "numpy_x = np.random.randn(2,2)\n",
    "print(numpy_x)"
   ]
  },
  {
   "cell_type": "code",
   "execution_count": 1,
   "id": "9f0d9f1c",
   "metadata": {
    "cell_style": "split"
   },
   "outputs": [
    {
     "name": "stdout",
     "output_type": "stream",
     "text": [
      "tensor([[ 1.5410, -0.2934],\n",
      "        [-2.1788,  0.5684]])\n"
     ]
    }
   ],
   "source": [
    "import torch\n",
    "# Numpy has already set our seed\n",
    "torch.manual_seed(0)\n",
    "torch_x = torch.randn(2,2)\n",
    "print(torch_x)"
   ]
  },
  {
   "cell_type": "markdown",
   "id": "615f7b30",
   "metadata": {
    "cell_style": "split"
   },
   "source": [
    "## Oh no! We have different numbers, let's fix that"
   ]
  },
  {
   "cell_type": "code",
   "execution_count": 3,
   "id": "5932a17c",
   "metadata": {
    "cell_style": "split"
   },
   "outputs": [
    {
     "name": "stdout",
     "output_type": "stream",
     "text": [
      "tensor([[1.7641, 0.4002],\n",
      "        [0.9787, 2.2409]], dtype=torch.float64)\n"
     ]
    }
   ],
   "source": [
    "torch_x = torch.from_numpy(numpy_x)\n",
    "print(torch_x)"
   ]
  },
  {
   "cell_type": "code",
   "execution_count": 4,
   "id": "bbbbed65",
   "metadata": {
    "cell_style": "split"
   },
   "outputs": [
    {
     "name": "stdout",
     "output_type": "stream",
     "text": [
      "5.3838407376420845\n"
     ]
    }
   ],
   "source": [
    "print(numpy_x.sum())"
   ]
  },
  {
   "cell_type": "code",
   "execution_count": 5,
   "id": "a897b804",
   "metadata": {
    "cell_style": "split"
   },
   "outputs": [
    {
     "name": "stdout",
     "output_type": "stream",
     "text": [
      "tensor(5.3838, dtype=torch.float64)\n"
     ]
    }
   ],
   "source": [
    "print(torch_x.sum())"
   ]
  },
  {
   "cell_type": "code",
   "execution_count": 6,
   "id": "f2f483c0",
   "metadata": {
    "cell_style": "split"
   },
   "outputs": [
    {
     "name": "stdout",
     "output_type": "stream",
     "text": [
      "[[5.83603919 1.49205924]\n",
      " [2.66109578 9.40172515]]\n"
     ]
    }
   ],
   "source": [
    "print(np.exp(numpy_x))"
   ]
  },
  {
   "cell_type": "code",
   "execution_count": 7,
   "id": "53264c5d",
   "metadata": {
    "cell_style": "split"
   },
   "outputs": [
    {
     "name": "stdout",
     "output_type": "stream",
     "text": [
      "tensor([[5.8360, 1.4921],\n",
      "        [2.6611, 9.4017]], dtype=torch.float64)\n"
     ]
    }
   ],
   "source": [
    "print(torch.exp(torch_x))"
   ]
  },
  {
   "cell_type": "code",
   "execution_count": 8,
   "id": "21ea23f7",
   "metadata": {
    "cell_style": "split"
   },
   "outputs": [
    {
     "name": "stdout",
     "output_type": "stream",
     "text": [
      "[[3.50352974 1.60260783]\n",
      " [3.91979233 5.41325139]]\n"
     ]
    }
   ],
   "source": [
    "print(np.matmul(numpy_x, numpy_x))"
   ]
  },
  {
   "cell_type": "code",
   "execution_count": 9,
   "id": "fa12d9d2",
   "metadata": {
    "cell_style": "split"
   },
   "outputs": [
    {
     "name": "stdout",
     "output_type": "stream",
     "text": [
      "tensor([[3.5035, 1.6026],\n",
      "        [3.9198, 5.4133]], dtype=torch.float64)\n"
     ]
    }
   ],
   "source": [
    "print(torch.matmul(torch_x, torch_x)) \n",
    "# Can also use torch.mm"
   ]
  },
  {
   "cell_type": "code",
   "execution_count": 10,
   "id": "57608ecb",
   "metadata": {
    "cell_style": "split"
   },
   "outputs": [
    {
     "name": "stdout",
     "output_type": "stream",
     "text": [
      "[[1.32817632 0.6325798 ]\n",
      " [0.98931187 1.49696132]]\n"
     ]
    }
   ],
   "source": [
    "print(np.sqrt(numpy_x))"
   ]
  },
  {
   "cell_type": "code",
   "execution_count": 11,
   "id": "20802bd1",
   "metadata": {
    "cell_style": "split"
   },
   "outputs": [
    {
     "name": "stdout",
     "output_type": "stream",
     "text": [
      "tensor([[1.3282, 0.6326],\n",
      "        [0.9893, 1.4970]], dtype=torch.float64)\n"
     ]
    }
   ],
   "source": [
    "print(torch.sqrt(torch_x))"
   ]
  },
  {
   "cell_type": "code",
   "execution_count": 12,
   "id": "6d8ea5dc",
   "metadata": {
    "cell_style": "split"
   },
   "outputs": [
    {
     "ename": "AttributeError",
     "evalue": "'numpy.ndarray' object has no attribute 'sqrt'",
     "output_type": "error",
     "traceback": [
      "\u001b[1;31m---------------------------------------------------------------------------\u001b[0m",
      "\u001b[1;31mAttributeError\u001b[0m                            Traceback (most recent call last)",
      "\u001b[1;32m~\\AppData\\Local\\Temp/ipykernel_19388/3259087142.py\u001b[0m in \u001b[0;36m<module>\u001b[1;34m\u001b[0m\n\u001b[1;32m----> 1\u001b[1;33m \u001b[0mprint\u001b[0m\u001b[1;33m(\u001b[0m\u001b[0mnumpy_x\u001b[0m\u001b[1;33m.\u001b[0m\u001b[0msqrt\u001b[0m\u001b[1;33m(\u001b[0m\u001b[1;33m)\u001b[0m\u001b[1;33m)\u001b[0m\u001b[1;33m\u001b[0m\u001b[1;33m\u001b[0m\u001b[0m\n\u001b[0m",
      "\u001b[1;31mAttributeError\u001b[0m: 'numpy.ndarray' object has no attribute 'sqrt'"
     ]
    }
   ],
   "source": [
    "print(numpy_x.sqrt())"
   ]
  },
  {
   "cell_type": "code",
   "execution_count": 13,
   "id": "2bc06fa4",
   "metadata": {
    "cell_style": "split"
   },
   "outputs": [
    {
     "name": "stdout",
     "output_type": "stream",
     "text": [
      "tensor([[1.3282, 0.6326],\n",
      "        [0.9893, 1.4970]], dtype=torch.float64)\n"
     ]
    }
   ],
   "source": [
    "print(torch_x.sqrt())"
   ]
  },
  {
   "cell_type": "code",
   "execution_count": null,
   "id": "bb49dd42",
   "metadata": {},
   "outputs": [],
   "source": []
  },
  {
   "cell_type": "markdown",
   "id": "28507bd4",
   "metadata": {},
   "source": [
    "For the most part numpy and pytorch are very similar. Funtions will share similar names and you'll be able to guess what things are without needing to look up specific torch commands.\n",
    "\n",
    "One advantage that torch has is that you can perform operations as if they are part of the tensor's class (last example). This can save typing and provide some added clarity"
   ]
  },
  {
   "cell_type": "markdown",
   "id": "52ca93cc",
   "metadata": {},
   "source": [
    "# Let's Train Our First Network!\n"
   ]
  },
  {
   "cell_type": "markdown",
   "id": "a21d001a",
   "metadata": {
    "cell_style": "center"
   },
   "source": [
    "We've talked about the theory in class, so let's pretend we all know what we're doing and just use torch APIs. "
   ]
  },
  {
   "cell_type": "markdown",
   "id": "14b2f651",
   "metadata": {
    "cell_style": "split"
   },
   "source": [
    "# Get Some Data\n",
    "The first thing we need to do is get some data. We'll use torch to get that and load it into a nice format for us."
   ]
  },
  {
   "cell_type": "code",
   "execution_count": 16,
   "id": "d1e08a47",
   "metadata": {
    "cell_style": "split"
   },
   "outputs": [],
   "source": [
    "from torch.utils.data import DataLoader\n",
    "from torchvision import datasets\n",
    "from torchvision import transforms as T\n",
    "\n",
    "mnist_dataset = datasets.MNIST(root='./', # here\n",
    "                               train=True, # train split\n",
    "                               download=True, # we want to get the data\n",
    "                               transform=T.ToTensor(), # put it into tensor format\n",
    "                              )\n",
    "train_data = DataLoader(mnist_dataset,\n",
    "                        batch_size=2,\n",
    "                        )"
   ]
  },
  {
   "cell_type": "markdown",
   "id": "a7bae5b8",
   "metadata": {
    "cell_style": "split"
   },
   "source": [
    "# Investigate the data\n",
    "We don't actually know anything about our data, so let's see how it looks."
   ]
  },
  {
   "cell_type": "code",
   "execution_count": 17,
   "id": "e34357d3",
   "metadata": {
    "cell_style": "split"
   },
   "outputs": [
    {
     "name": "stdout",
     "output_type": "stream",
     "text": [
      "Type: <class 'list'>\n",
      "Length: 2\n",
      "More Types: <class 'torch.Tensor'>, <class 'torch.Tensor'>\n",
      "Shapes: torch.Size([2, 1, 28, 28]), torch.Size([2])\n",
      "Labels: tensor([5, 0])\n",
      "\n"
     ]
    }
   ],
   "source": [
    "data = iter(train_data) # Let's iterate on it\n",
    "single_point = next(data)\n",
    "print(f\"\"\"Type: {type(single_point)}\n",
    "Length: {len(single_point)}\n",
    "More Types: {type(single_point[0])}, {type(single_point[1])}\n",
    "Shapes: {single_point[0].shape}, {single_point[1].shape}\n",
    "Labels: {single_point[1]}\n",
    "\"\"\")"
   ]
  },
  {
   "cell_type": "markdown",
   "id": "9e37c01d",
   "metadata": {
    "cell_style": "split"
   },
   "source": [
    "We here can see that the dataloader gives us back a list `(data, label)`. We can see that both are tensors (thanks to our transform we did) and we can see the shapes. We know that the label tensor is corresponding answers. The data tensor is shaped in `batch, channel, height, width`. That's because it is image data (and we have some prior knowledge)\n",
    "\n",
    "Let's also look at the data tensor we have `single_point[0]` (note that matplotlib by default will not use grayscale but viridis colormap. It is still a single channel but with higher readability)\n",
    "\n",
    "We can see here that the two images that we grabbed are hand written versions of the two labels we grabbed. This makes sense since our MNIST dataset is hand written digits!"
   ]
  },
  {
   "cell_type": "code",
   "execution_count": 18,
   "id": "2b58d826",
   "metadata": {
    "cell_style": "split"
   },
   "outputs": [
    {
     "data": {
      "text/plain": [
       "<matplotlib.image.AxesImage at 0x1a6128a1df0>"
      ]
     },
     "execution_count": 18,
     "metadata": {},
     "output_type": "execute_result"
    },
    {
     "data": {
      "image/png": "[encoded data removed]",
      "text/plain": [
       "<Figure size 432x288 with 2 Axes>"
      ]
     },
     "metadata": {
      "needs_background": "light"
     },
     "output_type": "display_data"
    }
   ],
   "source": [
    "import matplotlib.pyplot as plt\n",
    "ToPIL = T.ToPILImage() # Converting function\n",
    "img0 = ToPIL(single_point[0][0])\n",
    "img1 = ToPIL(single_point[0][1])\n",
    "# Plotting\n",
    "fig, axs = plt.subplots(1,2)\n",
    "axs[0].imshow(img0)\n",
    "axs[1].imshow(img1)"
   ]
  },
  {
   "cell_type": "markdown",
   "id": "f891bc66",
   "metadata": {
    "cell_style": "split"
   },
   "source": [
    "# Let's Make A Model\n",
    "\n",
    "We will create a 3 layer neural network. This will have an input layer, a single hidden layer, and a single output layer.\n",
    "\n",
    "Note that our input needs to be the size of the data. In the case of images it is $N_{channels} \\times N_{height} \\times N_{width}$ or in this case $1\\times28\\times28=784$\n",
    "\n",
    "The size of the output also needs to be the number of unique classes that we have in our label. Here we know that we have the digits 0 to 9 so 10 total. \n",
    "\n",
    "The last thing is we'll use the `ReLU` regularization technique. "
   ]
  },
  {
   "cell_type": "code",
   "execution_count": 1,
   "id": "0981472d",
   "metadata": {
    "cell_style": "split"
   },
   "outputs": [],
   "source": [
    "from torch import nn\n",
    "\n",
    "class SimpleNet(nn.Module):\n",
    "    def __init__(self,\n",
    "                 ninputs=28*28,\n",
    "                 nhidden=512,\n",
    "                 nout=10,\n",
    "                ):\n",
    "        super().__init__()\n",
    "        self.net = nn.Sequential(\n",
    "            nn.Linear(ninputs, nhidden),\n",
    "            nn.ReLU(),\n",
    "            #nn.Linear(nhidden, nhidden),\n",
    "            #nn.ReLU(),\n",
    "            nn.Linear(nhidden, nout),\n",
    "            nn.ReLU(),\n",
    "        )\n",
    "        \n",
    "    def forward(self, x):\n",
    "        b, c, h, w = x.shape\n",
    "        x = x.view(b, -1) # Flatten image\n",
    "        x = self.net(x)\n",
    "        return x"
   ]
  },
  {
   "cell_type": "markdown",
   "id": "cb5ece06",
   "metadata": {},
   "source": [
    "# Setup the training program\n",
    "Now we need to get the meat of the subject and get the parts we need to train the network."
   ]
  },
  {
   "cell_type": "code",
   "execution_count": 20,
   "id": "e05614e9",
   "metadata": {},
   "outputs": [
    {
     "name": "stdout",
     "output_type": "stream",
     "text": [
      "SimpleNet(\n",
      "  (net): Sequential(\n",
      "    (0): Linear(in_features=784, out_features=1024, bias=True)\n",
      "    (1): ReLU()\n",
      "    (2): Linear(in_features=1024, out_features=10, bias=True)\n",
      "    (3): ReLU()\n",
      "  )\n",
      ")\n"
     ]
    },
    {
     "name": "stderr",
     "output_type": "stream",
     "text": [
      "Epoch:  10%|█         | 1/10 [00:05<00:50,  5.62s/epoch]"
     ]
    },
    {
     "name": "stdout",
     "output_type": "stream",
     "text": [
      "Epoch 0: loss: 0.8114854693412781\n"
     ]
    },
    {
     "name": "stderr",
     "output_type": "stream",
     "text": [
      "\r",
      "Epoch:  20%|██        | 2/10 [00:10<00:43,  5.44s/epoch]"
     ]
    },
    {
     "name": "stdout",
     "output_type": "stream",
     "text": [
      "Epoch 1: loss: 0.6681225895881653\n"
     ]
    },
    {
     "name": "stderr",
     "output_type": "stream",
     "text": [
      "\r",
      "Epoch:  30%|███       | 3/10 [00:16<00:38,  5.55s/epoch]"
     ]
    },
    {
     "name": "stdout",
     "output_type": "stream",
     "text": [
      "Epoch 2: loss: 0.6302892565727234\n"
     ]
    },
    {
     "name": "stderr",
     "output_type": "stream",
     "text": [
      "\r",
      "Epoch:  40%|████      | 4/10 [00:21<00:32,  5.42s/epoch]"
     ]
    },
    {
     "name": "stdout",
     "output_type": "stream",
     "text": [
      "Epoch 3: loss: 0.6072165966033936\n"
     ]
    },
    {
     "name": "stderr",
     "output_type": "stream",
     "text": [
      "\r",
      "Epoch:  50%|█████     | 5/10 [00:27<00:26,  5.35s/epoch]"
     ]
    },
    {
     "name": "stdout",
     "output_type": "stream",
     "text": [
      "Epoch 4: loss: 0.4861915409564972\n"
     ]
    },
    {
     "name": "stderr",
     "output_type": "stream",
     "text": [
      "\r",
      "Epoch:  60%|██████    | 6/10 [00:32<00:21,  5.31s/epoch]"
     ]
    },
    {
     "name": "stdout",
     "output_type": "stream",
     "text": [
      "Epoch 5: loss: 0.22035054862499237\n"
     ]
    },
    {
     "name": "stderr",
     "output_type": "stream",
     "text": [
      "\r",
      "Epoch:  70%|███████   | 7/10 [00:37<00:15,  5.31s/epoch]"
     ]
    },
    {
     "name": "stdout",
     "output_type": "stream",
     "text": [
      "Epoch 6: loss: 0.1982366442680359\n"
     ]
    },
    {
     "name": "stderr",
     "output_type": "stream",
     "text": [
      "\r",
      "Epoch:  80%|████████  | 8/10 [00:42<00:10,  5.34s/epoch]"
     ]
    },
    {
     "name": "stdout",
     "output_type": "stream",
     "text": [
      "Epoch 7: loss: 0.18391700088977814\n"
     ]
    },
    {
     "name": "stderr",
     "output_type": "stream",
     "text": [
      "\r",
      "Epoch:  90%|█████████ | 9/10 [00:48<00:05,  5.39s/epoch]"
     ]
    },
    {
     "name": "stdout",
     "output_type": "stream",
     "text": [
      "Epoch 8: loss: 0.1712455302476883\n"
     ]
    },
    {
     "name": "stderr",
     "output_type": "stream",
     "text": [
      "Epoch: 100%|██████████| 10/10 [00:53<00:00,  5.37s/epoch]"
     ]
    },
    {
     "name": "stdout",
     "output_type": "stream",
     "text": [
      "Epoch 9: loss: 0.1601729840040207\n"
     ]
    },
    {
     "name": "stderr",
     "output_type": "stream",
     "text": [
      "\n"
     ]
    }
   ],
   "source": [
    "from torch import optim\n",
    "from tqdm import tqdm # This is optional but useful\n",
    "\n",
    "# Let's get the right torch device (preference of GPU)\n",
    "device = torch.device(\"cuda\" if torch.cuda.is_available() else \"cpu\")\n",
    "# Let's set up some parameters\n",
    "learning_rate=5e-1\n",
    "nepochs = 10\n",
    "ninputs=28**2\n",
    "nhidden=1024\n",
    "nout=10\n",
    "\n",
    "model = SimpleNet(ninputs=ninputs,\n",
    "                  nhidden=nhidden,\n",
    "                  nout=nout).to(device)\n",
    "print(model)\n",
    "# We need an optimizer that tells us what form of gradient descent to do\n",
    "optimizer = optim.SGD(model.parameters(), lr=learning_rate)\n",
    "\n",
    "# We also need a loss function\n",
    "LossFunction = nn.CrossEntropyLoss()\n",
    "\n",
    "# We're going to reload the data here so we have added clarity\n",
    "\n",
    "batch_size = 2048\n",
    "\n",
    "mnist_dataset = datasets.MNIST(root='./', # here\n",
    "                               train=True, # train split\n",
    "                               download=True, # we want to get the data\n",
    "                               transform=T.ToTensor(), # put it into tensor format\n",
    "                              )\n",
    "train_data = DataLoader(mnist_dataset,\n",
    "                        batch_size=batch_size,\n",
    "                        )\n",
    "# This is default on but let's just be pedantic\n",
    "model.train()\n",
    "loss_history = []\n",
    "loss = torch.Tensor([0])\n",
    "for epoch in tqdm(range(nepochs),\n",
    "                  desc=f\"Epoch\",\n",
    "                  unit=\"epoch\",\n",
    "                  disable=False):\n",
    "    for (data, label) in tqdm(train_data,\n",
    "                              desc=\"iteration\",\n",
    "                              unit=\"%\",\n",
    "                              disable=True):\n",
    "        optimizer.zero_grad(set_to_none=True) # Here we clear the gradients\n",
    "        \n",
    "        # We need to make sure the tensors are on the same device as our model\n",
    "        data = data.to(device)\n",
    "        label = label.to(device)\n",
    "        out = model(data)\n",
    "        \n",
    "        loss = LossFunction(out, label)\n",
    "        \n",
    "        # PyTorch is Magic!\n",
    "        loss.backward() # This function calculates all our gradients\n",
    "        optimizer.step() # This function does our gradient descent with those gradients\n",
    "        loss_history.append(loss.item())\n",
    "    print(f\"Epoch {epoch}: loss: {loss.item()}\")\n"
   ]
  },
  {
   "cell_type": "code",
   "execution_count": 21,
   "id": "73521f93",
   "metadata": {
    "cell_style": "center"
   },
   "outputs": [
    {
     "data": {
      "image/png": "[encoded data removed]",
      "text/plain": [
       "<Figure size 432x288 with 1 Axes>"
      ]
     },
     "metadata": {
      "needs_background": "light"
     },
     "output_type": "display_data"
    }
   ],
   "source": [
    "# Note that we are not plotting loss per epoch but per iteration\n",
    "plt.plot(loss_history)\n",
    "plt.title(\"Neural Network Loss\")\n",
    "plt.xlabel(\"Number of iterations\")\n",
    "plt.ylabel(\"Loss\")\n",
    "plt.show()"
   ]
  },
  {
   "cell_type": "markdown",
   "id": "f4866610",
   "metadata": {},
   "source": [
    "# Testing\n",
    "Now lets' see how well our network learned\n",
    "\n"
   ]
  },
  {
   "cell_type": "code",
   "execution_count": 22,
   "id": "8cfbdc42",
   "metadata": {},
   "outputs": [
    {
     "name": "stdout",
     "output_type": "stream",
     "text": [
      "Total accuracy = 94.17%\n"
     ]
    }
   ],
   "source": [
    "# We need to do the test data now\n",
    "mnist_test_dataset = datasets.MNIST(root='./', # here\n",
    "                               train=False, # train split\n",
    "                               download=True, # we want to get the data\n",
    "                               transform=T.ToTensor(), # put it into tensor format\n",
    "                              )\n",
    "test_data = DataLoader(mnist_test_dataset,\n",
    "                       batch_size=batch_size,\n",
    "                        )\n",
    "\n",
    "model.eval()\n",
    "accuracy = 0\n",
    "for (data, label) in test_data:\n",
    "    data = data.to(device)\n",
    "    label = label.to(device)\n",
    "    out = model(data)\n",
    "    answers = out.max(dim=1)[1]\n",
    "    accuracy += (answers == label).sum()\n",
    "print(f\"Total accuracy = {accuracy / len(mnist_test_dataset)*100:.2f}%\")"
   ]
  },
  {
   "cell_type": "markdown",
   "id": "2bd20335",
   "metadata": {},
   "source": [
    "# Summary\n",
    "You should play around with the above network and test different hyper parameters. Does the accuracy change? \n",
    "\n",
    "Try to answer the following questions:\n",
    "- How does Learning Rate change the accuracy?\n",
    "- How does batch size change things?\n",
    "- How many hidden layers do we need?\n",
    "- What happens if we use a different loss function?\n",
    "- What about a different optimizer?\n",
    "- Do we need to train longer?"
   ]
  },
  {
   "cell_type": "markdown",
   "id": "9091b8fc",
   "metadata": {},
   "source": [
    "# Getting more advanced\n",
    "Let's get a bit more advanced with our network. This time we will design our network to take a variable number of hidden layers. We'll be able to add more depth to the network and define how many hidden layers are in that layer."
   ]
  },
  {
   "cell_type": "code",
   "execution_count": 23,
   "id": "d19a3814",
   "metadata": {},
   "outputs": [],
   "source": [
    "class LinearNet(nn.Module):\n",
    "    def __init__(self,\n",
    "                 ninputs=28*28,\n",
    "                 hidden=[512],\n",
    "                 nout=10,\n",
    "                ):\n",
    "        super().__init__()\n",
    "        net = []\n",
    "        # Input layer\n",
    "        net.append(nn.Linear(ninputs, hidden[0]))\n",
    "        net.append(nn.ReLU())\n",
    "        \n",
    "        # Hidden layers\n",
    "        if len(hidden) > 1:\n",
    "            for i in range(len(hidden)):\n",
    "                if i == 0:\n",
    "                    net.append(nn.Linear(hidden[i], hidden[i+1]))\n",
    "                else:\n",
    "                    net.append(nn.Linear(hidden[i-1], hidden[i]))\n",
    "                net.append(nn.ReLU())\n",
    "\n",
    "        # Output Layer\n",
    "        net.append(nn.Linear(hidden[-1], nout))\n",
    "        net.append(nn.ReLU())\n",
    "        self.net = nn.Sequential(*net)\n",
    "        \n",
    "    def forward(self, x):\n",
    "        b, c, h, w = x.shape\n",
    "        x = x.view(b, -1) # Flatten image\n",
    "        x = self.net(x)\n",
    "        return x"
   ]
  },
  {
   "cell_type": "code",
   "execution_count": 24,
   "id": "c08d681d",
   "metadata": {},
   "outputs": [
    {
     "name": "stdout",
     "output_type": "stream",
     "text": [
      "LinearNet(\n",
      "  (net): Sequential(\n",
      "    (0): Linear(in_features=784, out_features=512, bias=True)\n",
      "    (1): ReLU()\n",
      "    (2): Linear(in_features=512, out_features=10, bias=True)\n",
      "    (3): ReLU()\n",
      "  )\n",
      ")\n"
     ]
    },
    {
     "name": "stderr",
     "output_type": "stream",
     "text": [
      "Epoch:  10%|█         | 1/10 [00:04<00:42,  4.76s/epoch]"
     ]
    },
    {
     "name": "stdout",
     "output_type": "stream",
     "text": [
      "Epoch 0: loss: 0.9082605242729187\n"
     ]
    },
    {
     "name": "stderr",
     "output_type": "stream",
     "text": [
      "\r",
      "Epoch:  20%|██        | 2/10 [00:09<00:37,  4.69s/epoch]"
     ]
    },
    {
     "name": "stdout",
     "output_type": "stream",
     "text": [
      "Epoch 1: loss: 0.5298245549201965\n"
     ]
    },
    {
     "name": "stderr",
     "output_type": "stream",
     "text": [
      "\r",
      "Epoch:  30%|███       | 3/10 [00:14<00:33,  4.77s/epoch]"
     ]
    },
    {
     "name": "stdout",
     "output_type": "stream",
     "text": [
      "Epoch 2: loss: 0.49071282148361206\n"
     ]
    },
    {
     "name": "stderr",
     "output_type": "stream",
     "text": [
      "\r",
      "Epoch:  40%|████      | 4/10 [00:18<00:28,  4.75s/epoch]"
     ]
    },
    {
     "name": "stdout",
     "output_type": "stream",
     "text": [
      "Epoch 3: loss: 0.46168965101242065\n"
     ]
    },
    {
     "name": "stderr",
     "output_type": "stream",
     "text": [
      "\r",
      "Epoch:  50%|█████     | 5/10 [00:23<00:23,  4.73s/epoch]"
     ]
    },
    {
     "name": "stdout",
     "output_type": "stream",
     "text": [
      "Epoch 4: loss: 0.44404029846191406\n"
     ]
    },
    {
     "name": "stderr",
     "output_type": "stream",
     "text": [
      "\r",
      "Epoch:  60%|██████    | 6/10 [00:28<00:18,  4.71s/epoch]"
     ]
    },
    {
     "name": "stdout",
     "output_type": "stream",
     "text": [
      "Epoch 5: loss: 0.4292517602443695\n"
     ]
    },
    {
     "name": "stderr",
     "output_type": "stream",
     "text": [
      "\r",
      "Epoch:  70%|███████   | 7/10 [00:32<00:14,  4.68s/epoch]"
     ]
    },
    {
     "name": "stdout",
     "output_type": "stream",
     "text": [
      "Epoch 6: loss: 0.20080174505710602\n"
     ]
    },
    {
     "name": "stderr",
     "output_type": "stream",
     "text": [
      "\r",
      "Epoch:  80%|████████  | 8/10 [00:37<00:09,  4.69s/epoch]"
     ]
    },
    {
     "name": "stdout",
     "output_type": "stream",
     "text": [
      "Epoch 7: loss: 0.18559202551841736\n"
     ]
    },
    {
     "name": "stderr",
     "output_type": "stream",
     "text": [
      "\r",
      "Epoch:  90%|█████████ | 9/10 [00:42<00:04,  4.69s/epoch]"
     ]
    },
    {
     "name": "stdout",
     "output_type": "stream",
     "text": [
      "Epoch 8: loss: 0.17299044132232666\n"
     ]
    },
    {
     "name": "stderr",
     "output_type": "stream",
     "text": [
      "Epoch: 100%|██████████| 10/10 [00:47<00:00,  4.71s/epoch]"
     ]
    },
    {
     "name": "stdout",
     "output_type": "stream",
     "text": [
      "Epoch 9: loss: 0.16226248443126678\n"
     ]
    },
    {
     "name": "stderr",
     "output_type": "stream",
     "text": [
      "\n"
     ]
    },
    {
     "data": {
      "image/png": "[encoded data removed]",
      "text/plain": [
       "<Figure size 432x288 with 1 Axes>"
      ]
     },
     "metadata": {
      "needs_background": "light"
     },
     "output_type": "display_data"
    }
   ],
   "source": [
    "# Let's set up some parameters\n",
    "learning_rate=5e-1\n",
    "nepochs = 10\n",
    "ninputs=28**2\n",
    "hidden=[512]\n",
    "nout=10\n",
    "\n",
    "model = LinearNet(ninputs=ninputs,\n",
    "                  hidden=hidden,\n",
    "                  nout=nout).to(device)\n",
    "print(model)\n",
    "# We need an optimizer that tells us what form of gradient descent to do\n",
    "optimizer = optim.SGD(model.parameters(), lr=learning_rate)\n",
    "\n",
    "# We also need a loss function\n",
    "LossFunction = nn.CrossEntropyLoss()\n",
    "\n",
    "# We're going to reload the data here so we have added clarity\n",
    "\n",
    "batch_size = 2048\n",
    "\n",
    "mnist_dataset = datasets.MNIST(root='./', # here\n",
    "                               train=True, # train split\n",
    "                               download=True, # we want to get the data\n",
    "                               transform=T.ToTensor(), # put it into tensor format\n",
    "                              )\n",
    "train_data = DataLoader(mnist_dataset,\n",
    "                        batch_size=batch_size,\n",
    "                        )\n",
    "# This is default on but let's just be pedantic\n",
    "model.train()\n",
    "loss_history = []\n",
    "for epoch in tqdm(range(nepochs),\n",
    "                  desc=\"Epoch\",\n",
    "                  unit=\"epoch\",\n",
    "                  disable=False):\n",
    "    for (data, label) in tqdm(train_data,\n",
    "                              desc=\"iteration\",\n",
    "                              unit=\"%\",\n",
    "                              disable=True):\n",
    "        optimizer.zero_grad(set_to_none=True)\n",
    "        data = data.to(device)\n",
    "        label = label.to(device)\n",
    "        out = model(data)\n",
    "        loss = LossFunction(out, label)\n",
    "        loss.backward()\n",
    "        optimizer.step()\n",
    "        loss_history.append(loss.item())\n",
    "    print(f\"Epoch {epoch}: loss: {loss.item()}\")\n",
    "    \n",
    "# Note that we are not plotting loss per epoch but per iteration\n",
    "plt.plot(loss_history)\n",
    "plt.title(\"Neural Network Loss\")\n",
    "plt.xlabel(\"Number of iterations\")\n",
    "plt.ylabel(\"Loss\")\n",
    "plt.show()"
   ]
  },
  {
   "cell_type": "code",
   "execution_count": 25,
   "id": "ee569a3b",
   "metadata": {},
   "outputs": [
    {
     "name": "stdout",
     "output_type": "stream",
     "text": [
      "Total accuracy = 94.52%\n"
     ]
    }
   ],
   "source": [
    "model.eval()\n",
    "accuracy = 0\n",
    "for (data, label) in test_data:\n",
    "    data = data.to(device)\n",
    "    label = label.to(device)\n",
    "    out = model(data)\n",
    "    answers = out.max(dim=1)[1]\n",
    "    accuracy += (answers == label).sum()\n",
    "print(f\"Total accuracy = {accuracy / len(mnist_test_dataset)*100:.2f}%\")"
   ]
  },
  {
   "cell_type": "markdown",
   "id": "e3af419f",
   "metadata": {},
   "source": [
    "# Getting More Out of PyTorch"
   ]
  },
  {
   "cell_type": "code",
   "execution_count": 26,
   "id": "b27e37f9",
   "metadata": {},
   "outputs": [
    {
     "name": "stdout",
     "output_type": "stream",
     "text": [
      "['__name__', '__doc__', '__package__', '__loader__', '__spec__', '__path__', '__file__', '__cached__', '__builtins__', 'vision', 'utils', 'lsun', 'LSUN', 'LSUNClass', 'folder', 'ImageFolder', 'DatasetFolder', 'coco', 'CocoCaptions', 'CocoDetection', 'cifar', 'CIFAR10', 'CIFAR100', 'stl10', 'STL10', 'mnist', 'MNIST', 'EMNIST', 'FashionMNIST', 'KMNIST', 'QMNIST', 'svhn', 'SVHN', 'phototour', 'PhotoTour', 'fakedata', 'FakeData', 'semeion', 'SEMEION', 'omniglot', 'Omniglot', 'sbu', 'SBU', 'flickr', 'Flickr8k', 'Flickr30k', 'voc', 'VOCSegmentation', 'VOCDetection', 'cityscapes', 'Cityscapes', 'imagenet', 'ImageNet', 'caltech', 'Caltech101', 'Caltech256', 'celeba', 'CelebA', 'widerface', 'WIDERFace', 'sbd', 'SBDataset', 'VisionDataset', 'usps', 'USPS', 'video_utils', 'kinetics', 'Kinetics400', 'Kinetics', 'hmdb51', 'HMDB51', 'ucf101', 'UCF101', 'places365', 'Places365', 'kitti', 'Kitti', 'inaturalist', 'INaturalist', 'lfw', 'LFWPeople', 'LFWPairs', '__all__']\n"
     ]
    }
   ],
   "source": [
    "# Let's see what datasets are offered (https://pytorch.org/vision/stable/datasets.html)\n",
    "print(datasets.__dir__())"
   ]
  },
  {
   "cell_type": "code",
   "execution_count": 27,
   "id": "0235544b",
   "metadata": {},
   "outputs": [
    {
     "name": "stdout",
     "output_type": "stream",
     "text": [
      "['__name__', '__doc__', '__package__', '__loader__', '__spec__', '__path__', '__file__', '__cached__', '__builtins__', '_functional', 'Adadelta', 'Adagrad', 'Adam', 'AdamW', 'SparseAdam', 'Adamax', 'ASGD', 'SGD', 'RAdam', 'Rprop', 'RMSprop', 'Optimizer', 'NAdam', 'LBFGS', 'lr_scheduler', 'swa_utils', '_multi_tensor']\n"
     ]
    }
   ],
   "source": [
    "# What about optimizers?\n",
    "print(optim.__dir__())"
   ]
  },
  {
   "cell_type": "code",
   "execution_count": null,
   "id": "c2364f31",
   "metadata": {},
   "outputs": [],
   "source": []
  }
 ],
 "metadata": {
  "kernelspec": {
   "display_name": "Python 3 (ipykernel)",
   "language": "python",
   "name": "python3"
  },
  "language_info": {
   "codemirror_mode": {
    "name": "ipython",
    "version": 3
   },
   "file_extension": ".py",
   "mimetype": "text/x-python",
   "name": "python",
   "nbconvert_exporter": "python",
   "pygments_lexer": "ipython3",
   "version": "3.9.7"
  }
 },
 "nbformat": 4,
 "nbformat_minor": 5
}
