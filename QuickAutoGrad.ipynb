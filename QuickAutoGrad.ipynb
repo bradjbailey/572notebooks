{
 "cells": [
  {
   "cell_type": "code",
   "execution_count": 38,
   "id": "066328a5",
   "metadata": {},
   "outputs": [],
   "source": [
    "import torch\n",
    "from torch import nn\n",
    "from torch import optim\n",
    "\n",
    "class TinyNetwork(nn.Module):\n",
    "    def __init__(self,):\n",
    "        super().__init__()\n",
    "        self.layers = nn.Sequential(nn.Linear(2, 5),\n",
    "                                    nn.ReLU(),\n",
    "                                    nn.Linear(5, 1))\n",
    "        \n",
    "    def forward(self, x):\n",
    "        return self.layers(x)"
   ]
  },
  {
   "cell_type": "code",
   "execution_count": 39,
   "id": "0b54f990",
   "metadata": {},
   "outputs": [
    {
     "name": "stdout",
     "output_type": "stream",
     "text": [
      "TinyNetwork(\n",
      "  (layers): Sequential(\n",
      "    (0): Linear(in_features=2, out_features=5, bias=True)\n",
      "    (1): ReLU()\n",
      "    (2): Linear(in_features=5, out_features=1, bias=True)\n",
      "  )\n",
      ")\n"
     ]
    }
   ],
   "source": [
    "model = TinyNetwork()\n",
    "print(model)"
   ]
  },
  {
   "cell_type": "code",
   "execution_count": 40,
   "id": "6ad95a10",
   "metadata": {},
   "outputs": [
    {
     "name": "stdout",
     "output_type": "stream",
     "text": [
      "x False grad None\n",
      "tensor([[-0.2375],\n",
      "        [-0.1713]], grad_fn=<AddmmBackward0>)\n",
      "True\n"
     ]
    }
   ],
   "source": [
    "batch_size = 2\n",
    "x = torch.randn(batch_size, 2, requires_grad=False)\n",
    "print(f\"x {x.requires_grad} grad {x.grad}\")\n",
    "out = model(x)\n",
    "print(out)\n",
    "print(out.requires_grad)"
   ]
  },
  {
   "cell_type": "code",
   "execution_count": 41,
   "id": "062d8920",
   "metadata": {},
   "outputs": [
    {
     "name": "stdout",
     "output_type": "stream",
     "text": [
      "None None\n"
     ]
    }
   ],
   "source": [
    "print(model.layers[0].weight.grad, model.layers[2].weight.grad)"
   ]
  },
  {
   "cell_type": "code",
   "execution_count": 42,
   "id": "29cb969a",
   "metadata": {},
   "outputs": [
    {
     "name": "stdout",
     "output_type": "stream",
     "text": [
      "x True grad None\n",
      "Out tensor([[-0.1862],\n",
      "        [-0.2644]], grad_fn=<AddmmBackward0>) grad None requires grad True\n",
      "None None\n"
     ]
    }
   ],
   "source": [
    "x = torch.randn(batch_size, 2, requires_grad=True)\n",
    "print(f\"x {x.requires_grad} grad {x.grad}\")\n",
    "out = model(x)\n",
    "print(f\"Out {out} grad {out.grad} requires grad {out.requires_grad}\")\n",
    "print(model.layers[0].weight.grad, model.layers[2].weight.grad)"
   ]
  },
  {
   "cell_type": "code",
   "execution_count": 43,
   "id": "fdb252a7",
   "metadata": {},
   "outputs": [
    {
     "name": "stdout",
     "output_type": "stream",
     "text": [
      "Out tensor([[-0.1862],\n",
      "        [-0.2644]], grad_fn=<AddmmBackward0>) grad None requires grad True\n",
      "tensor([[ 0.0000,  0.0000],\n",
      "        [-0.5011, -0.3012],\n",
      "        [-0.2097, -0.1261],\n",
      "        [-0.4627,  3.4254],\n",
      "        [ 0.2939, -0.9932]]) tensor([[ 0.0000, -6.8149, -5.0638, -3.7467, -3.1071]])\n"
     ]
    }
   ],
   "source": [
    "optimizer = optim.SGD(model.parameters(), lr=0.1)\n",
    "loss = (torch.ones(2) - out).pow(2).sum()\n",
    "loss.backward()\n",
    "print(f\"Out {out} grad {out.grad} requires grad {out.requires_grad}\")\n",
    "print(model.layers[0].weight.grad, model.layers[2].weight.grad)"
   ]
  },
  {
   "cell_type": "code",
   "execution_count": 44,
   "id": "dae8b951",
   "metadata": {},
   "outputs": [
    {
     "name": "stdout",
     "output_type": "stream",
     "text": [
      "Out tensor([[-0.1862],\n",
      "        [-0.2644]], grad_fn=<AddmmBackward0>) grad None requires grad True\n",
      "tensor([[ 0.0000,  0.0000],\n",
      "        [-0.5011, -0.3012],\n",
      "        [-0.2097, -0.1261],\n",
      "        [-0.4627,  3.4254],\n",
      "        [ 0.2939, -0.9932]]) tensor([[ 0.0000, -6.8149, -5.0638, -3.7467, -3.1071]])\n",
      "Out tensor([[-0.1862],\n",
      "        [-0.2644]], grad_fn=<AddmmBackward0>) grad None requires grad True\n",
      "None None\n"
     ]
    }
   ],
   "source": [
    "optimizer.step()\n",
    "print(f\"Out {out} grad {out.grad} requires grad {out.requires_grad}\")\n",
    "print(model.layers[0].weight.grad, model.layers[2].weight.grad)\n",
    "optimizer.zero_grad(set_to_none=True)\n",
    "print(f\"Out {out} grad {out.grad} requires grad {out.requires_grad}\")\n",
    "print(model.layers[0].weight.grad, model.layers[2].weight.grad)"
   ]
  },
  {
   "cell_type": "code",
   "execution_count": 53,
   "id": "8ba519b3",
   "metadata": {},
   "outputs": [
    {
     "name": "stdout",
     "output_type": "stream",
     "text": [
      "x grad None\n",
      "x with retain graph tensor([[-1.5050, -4.3178],\n",
      "        [ 0.0533,  0.6561]])\n"
     ]
    }
   ],
   "source": [
    "x = torch.randn(batch_size, 2, requires_grad=True)\n",
    "print(f\"x grad {x.grad}\")\n",
    "out = model(x)\n",
    "loss = (torch.ones(2) - out).pow(2).sum()\n",
    "loss.backward(retain_graph=True)\n",
    "print(f\"x with retain graph {x.grad}\")\n"
   ]
  },
  {
   "cell_type": "code",
   "execution_count": 54,
   "id": "dcb97482",
   "metadata": {},
   "outputs": [
    {
     "name": "stdout",
     "output_type": "stream",
     "text": [
      "Out tensor([[2.7993],\n",
      "        [1.3782]], grad_fn=<AddmmBackward0>) grad None requires grad True\n",
      "tensor([[  0.0000,   0.0000],\n",
      "        [ -8.2707,  -4.4217],\n",
      "        [ -0.4875,   2.1057],\n",
      "        [-18.0650, -16.8640],\n",
      "        [ -9.2060,   1.5357]]) tensor([[ 0.0000, 29.2423,  5.4341, 24.3544,  5.2050]])\n"
     ]
    }
   ],
   "source": [
    "print(f\"Out {out} grad {out.grad} requires grad {out.requires_grad}\")\n",
    "print(model.layers[0].weight.grad, model.layers[2].weight.grad)"
   ]
  },
  {
   "cell_type": "code",
   "execution_count": null,
   "id": "c5635f5c",
   "metadata": {},
   "outputs": [],
   "source": []
  }
 ],
 "metadata": {
  "kernelspec": {
   "display_name": "Python 3 (ipykernel)",
   "language": "python",
   "name": "python3"
  },
  "language_info": {
   "codemirror_mode": {
    "name": "ipython",
    "version": 3
   },
   "file_extension": ".py",
   "mimetype": "text/x-python",
   "name": "python",
   "nbconvert_exporter": "python",
   "pygments_lexer": "ipython3",
   "version": "3.9.7"
  }
 },
 "nbformat": 4,
 "nbformat_minor": 5
}
