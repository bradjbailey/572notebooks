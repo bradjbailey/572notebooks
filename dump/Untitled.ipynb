{
 "cells": [
  {
   "cell_type": "markdown",
   "id": "c9394a46",
   "metadata": {},
   "source": [
    "572 hw1 - Brad Bailey"
   ]
  },
  {
   "cell_type": "markdown",
   "id": "f47f9026",
   "metadata": {},
   "source": [
    "Part 1 - Linear Classifier"
   ]
  },
  {
   "cell_type": "code",
   "execution_count": 4,
   "id": "5934fac5",
   "metadata": {},
   "outputs": [],
   "source": [
    "import torch\n",
    "import torchvision as tv\n",
    "import numpy as np"
   ]
  },
  {
   "cell_type": "markdown",
   "id": "440db8c3",
   "metadata": {},
   "source": [
    "Get the Data"
   ]
  },
  {
   "cell_type": "code",
   "execution_count": 10,
   "id": "0ec2bcb7",
   "metadata": {},
   "outputs": [
    {
     "name": "stdout",
     "output_type": "stream",
     "text": [
      "Files already downloaded and verified\n"
     ]
    }
   ],
   "source": [
    "cifar10_dataset = tv.datasets.CIFAR10(root='./', # here\n",
    "                               train=True, # train split\n",
    "                               download=True, # we want to get the data\n",
    "                               transform=tv.transforms.ToTensor(), # put it into tensor format\n",
    "                          )\n",
    "train_data = torch.utils.data.DataLoader(cifar10_dataset,\n",
    "                        batch_size=2,\n",
    "                        )"
   ]
  },
  {
   "cell_type": "markdown",
   "id": "28fda47b",
   "metadata": {},
   "source": [
    "Investigation"
   ]
  },
  {
   "cell_type": "code",
   "execution_count": 11,
   "id": "9d11c580",
   "metadata": {},
   "outputs": [
    {
     "name": "stdout",
     "output_type": "stream",
     "text": [
      "Type: <class 'list'>\n",
      "Length: 2\n",
      "More Types: <class 'torch.Tensor'>, <class 'torch.Tensor'>\n",
      "Shapes: torch.Size([2, 3, 32, 32]), torch.Size([2])\n",
      "Labels: tensor([6, 9])\n",
      "\n"
     ]
    }
   ],
   "source": [
    "data = iter(train_data) # Let's iterate on it\n",
    "single_point = next(data)\n",
    "print(f\"\"\"Type: {type(single_point)}\n",
    "Length: {len(single_point)}\n",
    "More Types: {type(single_point[0])}, {type(single_point[1])}\n",
    "Shapes: {single_point[0].shape}, {single_point[1].shape}\n",
    "Labels: {single_point[1]}\n",
    "\"\"\")"
   ]
  },
  {
   "cell_type": "code",
   "execution_count": 13,
   "id": "34bf8e75",
   "metadata": {},
   "outputs": [
    {
     "data": {
      "text/plain": [
       "<matplotlib.image.AxesImage at 0x1d1193a65e0>"
      ]
     },
     "execution_count": 13,
     "metadata": {},
     "output_type": "execute_result"
    },
    {
     "data": {
      "image/png": "[encoded data removed]",
      "text/plain": [
       "<Figure size 432x288 with 2 Axes>"
      ]
     },
     "metadata": {
      "needs_background": "light"
     },
     "output_type": "display_data"
    }
   ],
   "source": [
    "import matplotlib.pyplot as plt\n",
    "ToPIL = tv.transforms.ToPILImage() # Converting function\n",
    "img0 = ToPIL(single_point[0][0])\n",
    "img1 = ToPIL(single_point[0][1])\n",
    "# Plotting\n",
    "fig, axs = plt.subplots(1,2)\n",
    "axs[0].imshow(img0)\n",
    "axs[1].imshow(img1)"
   ]
  },
  {
   "cell_type": "code",
   "execution_count": null,
   "id": "aab33d42",
   "metadata": {},
   "outputs": [],
   "source": []
  }
 ],
 "metadata": {
  "kernelspec": {
   "display_name": "Python 3 (ipykernel)",
   "language": "python",
   "name": "python3"
  },
  "language_info": {
   "codemirror_mode": {
    "name": "ipython",
    "version": 3
   },
   "file_extension": ".py",
   "mimetype": "text/x-python",
   "name": "python",
   "nbconvert_exporter": "python",
   "pygments_lexer": "ipython3",
   "version": "3.9.7"
  }
 },
 "nbformat": 4,
 "nbformat_minor": 5
}
