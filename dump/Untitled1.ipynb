{
 "cells": [
  {
   "cell_type": "code",
   "execution_count": 33,
   "id": "eb268fa1",
   "metadata": {},
   "outputs": [
    {
     "name": "stdout",
     "output_type": "stream",
     "text": [
      "torch.Size([24, 3, 32, 32])\n",
      "torch.Size([24, 3072])\n"
     ]
    }
   ],
   "source": [
    "import torch\n",
    "import numpy as np\n",
    "# Create a random tensor of desired shape\n",
    "#x = torch.randn(batch, channels, height, width)\n",
    "#example: cifar10 3*32*32 batchsize 24\n",
    "x = torch.randn(24, 3, 32, 32)\n",
    "print(x.shape)\n",
    "b, c, h, w = x.shape\n",
    "x = x.view(b, -1) # Flatten image\n",
    "print(x.shape)\n",
    "\n",
    "# create an arbitrary layer\n",
    "#n = nn.SomeLayerType(arguments)\n",
    "n = torch.nn.Linear(3*32*32, 10)"
   ]
  },
  {
   "cell_type": "code",
   "execution_count": 34,
   "id": "20d4f0f9",
   "metadata": {},
   "outputs": [],
   "source": [
    "# Feed the tensor through that layer\n",
    "o = n(x)"
   ]
  },
  {
   "cell_type": "code",
   "execution_count": 35,
   "id": "0d0367ea",
   "metadata": {},
   "outputs": [
    {
     "data": {
      "text/plain": [
       "torch.Size([24, 32])"
      ]
     },
     "execution_count": 35,
     "metadata": {},
     "output_type": "execute_result"
    }
   ],
   "source": [
    "# Check the shape of the output\n",
    "o.shape"
   ]
  }
 ],
 "metadata": {
  "kernelspec": {
   "display_name": "Python 3 (ipykernel)",
   "language": "python",
   "name": "python3"
  },
  "language_info": {
   "codemirror_mode": {
    "name": "ipython",
    "version": 3
   },
   "file_extension": ".py",
   "mimetype": "text/x-python",
   "name": "python",
   "nbconvert_exporter": "python",
   "pygments_lexer": "ipython3",
   "version": "3.9.7"
  }
 },
 "nbformat": 4,
 "nbformat_minor": 5
}
